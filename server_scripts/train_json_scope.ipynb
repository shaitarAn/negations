{
  "cells": [
    {
      "cell_type": "markdown",
      "metadata": {
        "id": "XvV1NGcZCJk3"
      },
      "source": [
        "### This script takes data in a json file, trains a scope model on this data and saves it. Gives option to calculate the lexical overlap."
      ]
    },
    {
      "cell_type": "code",
      "execution_count": null,
      "metadata": {
        "id": "hcsQGMrRGJsH"
      },
      "outputs": [],
      "source": [
        "# Installations needed\n",
        "!pip install transformers\n",
        "!pip install knockknock\n",
        "!pip install sentencepiece"
      ]
    },
    {
      "cell_type": "code",
      "execution_count": null,
      "metadata": {
        "id": "PenMagTOWnWw"
      },
      "outputs": [],
      "source": [
        "!pip install -U ipykernel"
      ]
    },
    {
      "cell_type": "code",
      "execution_count": null,
      "metadata": {
        "id": "mGTg8YDGGbCy"
      },
      "outputs": [],
      "source": [
        "# Imports needed\n",
        "import torch, json, random\n",
        "from torch.nn import CrossEntropyLoss\n",
        "from torch.optim import Adam\n",
        "import transformers\n",
        "from torch.utils.data import TensorDataset, DataLoader, RandomSampler\n",
        "from keras.preprocessing.sequence import pad_sequences\n",
        "from sklearn.model_selection import train_test_split\n",
        "from sklearn.metrics import f1_score, classification_report\n",
        "from transformers import BertForTokenClassification, BertTokenizer, XLMRobertaTokenizer, XLMRobertaForTokenClassification\n",
        "from transformers.file_utils import cached_path\n",
        "from tqdm import tqdm\n",
        "import matplotlib.pyplot as plt\n",
        "import numpy as np\n",
        "%matplotlib inline"
      ]
    },
    {
      "cell_type": "markdown",
      "metadata": {
        "id": "tq0WavgDIGJy"
      },
      "source": [
        "Upload the datasets to Google Drive.\n",
        "This allows access to your Google Drive from this notebook."
      ]
    },
    {
      "cell_type": "code",
      "execution_count": null,
      "metadata": {
        "colab": {
          "base_uri": "https://localhost:8080/"
        },
        "id": "h7_IpJcCHOGK",
        "outputId": "7f2a457b-fca0-409f-82f3-9f5ce238a46f"
      },
      "outputs": [
        {
          "name": "stdout",
          "output_type": "stream",
          "text": [
            "Mounted at /content/gdrive\n"
          ]
        }
      ],
      "source": [
        "from google.colab import drive\n",
        "drive.mount('/content/gdrive')"
      ]
    },
    {
      "cell_type": "markdown",
      "metadata": {
        "id": "0As9p3vSInip"
      },
      "source": [
        "# Set global variables for model configuration."
      ]
    },
    {
      "cell_type": "code",
      "execution_count": null,
      "metadata": {
        "id": "0--9vurTqgIS"
      },
      "outputs": [],
      "source": [
        "MAX_LEN = 250\n",
        "bs = 8 # batch size\n",
        "EPOCHS = 32\n",
        "PATIENCE = 9\n",
        "INITIAL_LEARNING_RATE = 1e-5\n",
        "\n",
        "SCOPE_MODEL = 'xlm-roberta-base' #'bert-base-uncased' 'bert-base-multilingual-cased'\n",
        "SCOPE_METHOD = 'augment' # Options: augment, replace\n",
        "TASK = 'negation' # Options: negation, speculation\n",
        "SUBTASK = 'scope_resolution' # Options: cue_detection, scope_resolution\n",
        "# TRAIN_DATASETS = ['french_corpus'] # 'french_corpus', 'sherlock', 'bioscope_full_papers','bioscope_abstracts', 'sfu'\n",
        "MULTI_BERT_VOCAB = []"
      ]
    },
    {
      "cell_type": "markdown",
      "metadata": {
        "id": "2omTfWZKhGQ1"
      },
      "source": [
        "NAME OF THE MODEL THAT WILL BE SAVED\n"
      ]
    },
    {
      "cell_type": "code",
      "execution_count": null,
      "metadata": {
        "id": "vJSJnIFQhCU7"
      },
      "outputs": [],
      "source": [
        "root = '/content/gdrive/My Drive/multilingual_BERT_negations/modelsXLM/SP2_1878'\n",
        "model_name = root + 'ENG2_1878'"
      ]
    },
    {
      "cell_type": "markdown",
      "metadata": {
        "id": "sj8eCB-mWCEB"
      },
      "source": [
        "CHOOSE TRAINING DATA\n"
      ]
    },
    {
      "cell_type": "code",
      "execution_count": null,
      "metadata": {
        "id": "_-BOEvaShXCj"
      },
      "outputs": [],
      "source": [
        "file = '/content/gdrive/My Drive/multilingual_BERT_negations/all_data_2Qlabels/spanishALL_2labels.json'"
      ]
    },
    {
      "cell_type": "code",
      "execution_count": null,
      "metadata": {
        "id": "E1cPZYB8dkIx"
      },
      "outputs": [],
      "source": [
        "file2 = '/content/gdrive/My Drive/multilingual_BERT_negations/all_data_2Qlabels/SHERLOCK_3labels.json'"
      ]
    },
    {
      "cell_type": "code",
      "execution_count": null,
      "metadata": {
        "id": "dnNz8-0G_3tq"
      },
      "outputs": [],
      "source": [
        "file3 = '/content/gdrive/My Drive/multilingual_BERT_negations/all_data_2Qlabels/SFU_2label.json'"
      ]
    },
    {
      "cell_type": "code",
      "execution_count": null,
      "metadata": {
        "colab": {
          "base_uri": "https://localhost:8080/"
        },
        "id": "DcdUXw56yuHl",
        "outputId": "862f175b-8009-4127-d438-7ae497ab1451"
      },
      "outputs": [
        {
          "data": {
            "text/plain": [
              "4327"
            ]
          },
          "execution_count": 55,
          "metadata": {
            "tags": []
          },
          "output_type": "execute_result"
        }
      ],
      "source": [
        "with open(file, 'r') as inf:\n",
        "  zipped_train = json.load(inf)\n",
        "\n",
        "# with open(file2, 'r') as inf:\n",
        "#   zipped_train2 = json.load(inf)\n",
        "\n",
        "# with open(file3, 'r') as inf:\n",
        "#   zipped_train3 = json.load(inf)\n",
        "\n",
        "# zipped_train = zipped_train + zipped_train2 + zipped_train3\n",
        "\n",
        "len(zipped_train)"
      ]
    },
    {
      "cell_type": "code",
      "execution_count": null,
      "metadata": {
        "colab": {
          "base_uri": "https://localhost:8080/"
        },
        "id": "dm2HOs1vZQJw",
        "outputId": "1454113a-0211-48c7-bde5-6fc7097f90eb"
      },
      "outputs": [
        {
          "data": {
            "text/plain": [
              "1878"
            ]
          },
          "execution_count": 56,
          "metadata": {
            "tags": []
          },
          "output_type": "execute_result"
        }
      ],
      "source": [
        "def sample(iterable, k):\n",
        "    training = []\n",
        "    rest = []\n",
        "    for t, item in enumerate(iterable):\n",
        "        if t < k:\n",
        "            training.append(item)\n",
        "        else:\n",
        "            m = random.randint(0, t)\n",
        "            if m < k:\n",
        "                item, training[m] = training[m], item\n",
        "            rest.append(item)\n",
        "\n",
        "    return training\n",
        "\n",
        "zipped_train = sample(zipped_train, 1878)\n",
        "\n",
        "len(zipped_train)"
      ]
    },
    {
      "cell_type": "code",
      "execution_count": null,
      "metadata": {
        "colab": {
          "base_uri": "https://localhost:8080/"
        },
        "id": "q_XQu2f026iy",
        "outputId": "d8638d84-0cac-4632-e7ae-df124b9a5936"
      },
      "outputs": [
        {
          "name": "stdout",
          "output_type": "stream",
          "text": [
            "[['No', 'comparto', 'tu', 'opinión', 'pero', 'la', 'respeto', '.'], [1, 3, 3, 3, 3, 3, 3, 3], [0, 1, 1, 1, 0, 0, 0, 0]]\n",
            "[['Pese', 'a', 'que', 'son', 'habitaciones', 'a', 'la', 'calle', ',', 'no', 'se', 'escuchan', 'ruidos', 'y', 'en', 'mi', 'caso', 'que', 'he', 'ido', 'siempre', 'en', 'verano', ',', 'los', 'equipos', 'de', 'aire', 'funcionan', 'muy', 'bien', '.'], [3, 3, 3, 3, 3, 3, 3, 3, 3, 1, 3, 3, 3, 3, 3, 3, 3, 3, 3, 3, 3, 3, 3, 3, 3, 3, 3, 3, 3, 3, 3, 3], [0, 0, 0, 0, 0, 0, 0, 0, 0, 0, 1, 1, 1, 0, 0, 0, 0, 0, 0, 0, 0, 0, 0, 0, 0, 0, 0, 0, 0, 0, 0, 0]]\n"
          ]
        }
      ],
      "source": [
        "for item in zipped_train[:2]:\n",
        "  print(item)"
      ]
    },
    {
      "cell_type": "code",
      "execution_count": null,
      "metadata": {
        "id": "UaJDyZz27lNv"
      },
      "outputs": [],
      "source": [
        "method = SCOPE_METHOD\n",
        "do_lower_case = False\n",
        "\n",
        "# print(SCOPE_MODEL)\n",
        "\n",
        "if 'multilingual' in SCOPE_MODEL:\n",
        "  tokenizer = BertTokenizer.from_pretrained('bert-base-multilingual-cased', do_lower_case=do_lower_case, cache_dir='multilingual_bert_tokenizer')\n",
        "\n",
        "elif 'roberta' in SCOPE_MODEL:\n",
        "  tokenizer = XLMRobertaTokenizer.from_pretrained('xlm-roberta-base')\n",
        "\n",
        "my_vocab = []"
      ]
    },
    {
      "cell_type": "code",
      "execution_count": null,
      "metadata": {
        "colab": {
          "base_uri": "https://localhost:8080/"
        },
        "id": "xxm55eai7nVT",
        "outputId": "ea6a8264-f159-4463-aa3c-888634f0bc9a"
      },
      "outputs": [
        {
          "data": {
            "text/plain": [
              "PreTrainedTokenizer(name_or_path='bert-base-multilingual-cased', vocab_size=119547, model_max_len=512, is_fast=False, padding_side='right', special_tokens={'unk_token': '[UNK]', 'sep_token': '[SEP]', 'pad_token': '[PAD]', 'cls_token': '[CLS]', 'mask_token': '[MASK]'})"
            ]
          },
          "execution_count": 16,
          "metadata": {
            "tags": []
          },
          "output_type": "execute_result"
        }
      ],
      "source": [
        "tokenizer"
      ]
    },
    {
      "cell_type": "code",
      "execution_count": null,
      "metadata": {
        "colab": {
          "base_uri": "https://localhost:8080/"
        },
        "id": "Xe1kG3IZKBrD",
        "outputId": "fe59a981-e826-40ac-9e90-8fa4c86f4558"
      },
      "outputs": [
        {
          "name": "stdout",
          "output_type": "stream",
          "text": [
            "[[['Mi', 'opinion', 'es', 'negativa', 'ya', 'que', 'en', 'un', 'pasado', 'no', 'muy', 'lejano', 'tuve', 'una', 'y', 'no', 'me', 'gusto', 'para', 'nada', '.'], [3, 3, 3, 3, 3, 3, 3, 3, 3, 3, 3, 3, 3, 3, 3, 2, 3, 3, 2, 2, 3], [0, 0, 0, 0, 0, 0, 0, 0, 0, 0, 0, 0, 0, 0, 0, 0, 1, 1, 0, 0, 0]], [['No', 'era', 'por', 'motivo', 'de', 'la', 'pasta', '(', 'que', 'tampoco', 'está', 'mal', ')', ',', 'sino', 'porque', 'quería', 'ser', 'la', 'primera', 'en', 'rendir', 'homenaje', 'a', 'esta', 'maravillosa', 'producción', 'de', 'Disney-Pixar', '.'], [2, 3, 3, 3, 3, 3, 3, 3, 3, 3, 3, 3, 3, 3, 2, 3, 3, 3, 3, 3, 3, 3, 3, 3, 3, 3, 3, 3, 3, 3], [0, 1, 1, 1, 1, 1, 1, 0, 0, 0, 0, 0, 0, 0, 0, 0, 0, 0, 0, 0, 0, 0, 0, 0, 0, 0, 0, 0, 0, 0]], [['El', 'profesor', 'no', 'cree', 'que', 'nadie', 'pueda', 'conocer', 'de', 'verdad', 'lo', 'que', 'ocurre', 'a', 'nuestro', 'alrededor', '.'], [3, 3, 3, 3, 3, 1, 3, 3, 3, 3, 3, 3, 3, 3, 3, 3, 3], [0, 0, 0, 0, 0, 0, 1, 1, 1, 1, 1, 1, 1, 1, 1, 1, 0]], [['Completan', 'el', 'reparto', 'la', 'española', 'Leonor', 'Watling', ',', 'a', 'la', 'que', 'no', 'veíamos', 'desde', '\"', 'Teresa', ':', 'El', 'Cuerpo', 'de', 'Cristo', '\"', 'y', 'Julie', 'Cox', '(', 'Troya', ')', '.'], [3, 3, 3, 3, 3, 3, 3, 3, 3, 3, 3, 1, 3, 3, 3, 3, 3, 3, 3, 3, 3, 3, 3, 3, 3, 3, 3, 3, 3], [0, 0, 0, 0, 0, 0, 0, 0, 1, 1, 1, 0, 1, 1, 1, 1, 1, 1, 1, 1, 1, 1, 1, 1, 1, 1, 1, 1, 0]], [['7.', 'A', 'lo', 'clásico', 'Un', 'tema', 'de', 'reggaeton', 'de', 'el', 'que', 'no', 'hay', 'mucho', 'que', 'decir', ',', 'no', 'me', 'gusta', '.'], [3, 3, 3, 3, 3, 3, 3, 3, 3, 3, 3, 1, 3, 3, 3, 3, 3, 3, 3, 3, 3], [0, 0, 0, 0, 0, 0, 0, 0, 1, 1, 1, 0, 1, 1, 1, 1, 0, 0, 0, 0, 0]], [['Poco', 'despues', 'aparco', 'en', 'cuesta', ',', 'el', 'coche', 'indicaba', 'un', 'cuarto', 'de', 'deposito', 'y', 'a', 'el', 'de', 'una', 'hora', 'voy', 'a', 'arrancar', 'y', 'el', 'coche', 'no', 'arranca', ',', 'llamo', 'a', 'la', 'asistencia', ',', 'lo', 'llevan', 'a', 'la', 'opel', ',', 'y', 'me', 'dicen', 'que', 'no', 'aparque', 'nunca', 'este', 'coche', 'en', 'cuesta', 'con', 'poca', 'gasolina', ',', 'que', 'no', 'esta', 'preparado', 'para', 'esto', ',', 'el', 'coche', 'tenia', '13', 'litros', 'de', 'gasolina', '.'], [3, 3, 3, 3, 3, 3, 3, 3, 3, 3, 3, 3, 3, 3, 3, 3, 3, 3, 3, 3, 3, 3, 3, 3, 3, 1, 3, 3, 3, 3, 3, 3, 3, 3, 3, 3, 3, 3, 3, 3, 3, 3, 3, 3, 3, 3, 3, 3, 3, 3, 3, 3, 3, 3, 3, 3, 3, 3, 3, 3, 3, 3, 3, 3, 3, 3, 3, 3, 3], [0, 0, 0, 0, 0, 0, 0, 0, 0, 0, 0, 0, 0, 0, 0, 0, 0, 0, 0, 0, 0, 0, 0, 1, 1, 0, 1, 0, 0, 0, 0, 0, 0, 0, 0, 0, 0, 0, 0, 0, 0, 0, 0, 0, 0, 0, 0, 0, 0, 0, 0, 0, 0, 0, 0, 0, 0, 0, 0, 0, 0, 0, 0, 0, 0, 0, 0, 0, 0]], [['Sin', 'duda', 'es', 'una', 'maravilla', 'que', 'hayan', 'hecho', 'esta', 'película', 'porque', 'personalmente', 'nunca', 'me', 'canso', 'de', 'Mr', 'Bean', '.'], [1, 3, 3, 3, 3, 3, 3, 3, 3, 3, 3, 3, 3, 3, 3, 3, 3, 3, 3], [0, 1, 0, 0, 0, 0, 0, 0, 0, 0, 0, 0, 0, 0, 0, 0, 0, 0, 0]], [['A', 'pesar', 'de', 'que', 'no', 'le', 'doy', 'un', 'diez', 'porque', 'le', 'falta', 'ese', 'algo', 'que', 'tienen', 'las', 'películas', 'preferidas', ',', 'el', 'filme', 'no', 'me', 'ha', 'decepcionado', 'en', 'absoluto', ',', 'y', 'eso', 'que', 'era', 'un', 'tanto', 'escéptica', 'y', 'tenía', 'cierto', 'miedo', 'a', 'que', 'mis', 'queridos', 'Simpson', 'perdieran', 'en', 'su', 'aparición', 'en', 'la', 'pantalla', 'grande', '.'], [3, 3, 3, 3, 1, 3, 3, 3, 3, 3, 3, 3, 3, 3, 3, 3, 3, 3, 3, 3, 3, 3, 3, 3, 3, 3, 3, 3, 3, 3, 3, 3, 3, 3, 3, 3, 3, 3, 3, 3, 3, 3, 3, 3, 3, 3, 3, 3, 3, 3, 3, 3, 3, 3], [0, 0, 0, 0, 0, 1, 1, 1, 1, 0, 0, 0, 0, 0, 0, 0, 0, 0, 0, 0, 0, 0, 0, 0, 0, 0, 0, 0, 0, 0, 0, 0, 0, 0, 0, 0, 0, 0, 0, 0, 0, 0, 0, 0, 0, 0, 0, 0, 0, 0, 0, 0, 0, 0]], [['Pero', ',', 'yo', 'se', ',', 'que', 'aunque', 'se', 'miren', 'las', 'fichas', 'técnicas', 'de', 'las', 'péliculas', ',', 'lo', 'que', 'más', 'interesa', 'no', 'es', 'eso', ',', 'sino', 'saber', 'más', 'o', 'menos', 'de', 'que', 'va', '.'], [3, 3, 3, 3, 3, 3, 3, 3, 3, 3, 3, 3, 3, 3, 3, 3, 3, 3, 3, 3, 2, 3, 3, 3, 2, 3, 3, 3, 3, 3, 3, 3, 3], [0, 0, 0, 0, 0, 0, 0, 0, 0, 0, 0, 0, 0, 0, 0, 0, 1, 1, 1, 1, 0, 1, 1, 0, 0, 0, 0, 0, 0, 0, 0, 0, 0]], [['Luego', 'de', '3', 'años', 'se', 'han', 'fastidiado', 'los', 'rodamientos', 'que', 'te', 'piden', '180', '€', 'de', 'mano', 'de', 'obra', 'y', 'porque', 'los', 'materiales', 'están', 'en', 'garantía', ',', 'menuda', 'desvergüenza', ',', 'por', 'materiales', 'de', '20', '€', '180', 'de', 'mano', 'de', 'obra', ',', 'que', 'no', 'digo', 'que', 'no', 'lo', 'valga', ',', 'pero', 'no', 'para', 'quedar', 'se', 'con', 'una', 'lavadora', 'vieja', 'y', 'tocada', '.'], [3, 3, 3, 3, 3, 3, 3, 3, 3, 3, 3, 3, 3, 3, 3, 3, 3, 3, 3, 3, 3, 3, 3, 3, 3, 3, 3, 3, 3, 3, 3, 3, 3, 3, 3, 3, 3, 3, 3, 3, 3, 3, 3, 3, 3, 3, 3, 3, 3, 1, 3, 3, 3, 3, 3, 3, 3, 3, 3, 3], [0, 0, 0, 0, 0, 0, 0, 0, 0, 0, 0, 0, 0, 0, 0, 0, 0, 0, 0, 0, 0, 0, 0, 0, 0, 0, 0, 0, 0, 0, 0, 0, 0, 0, 0, 0, 0, 0, 0, 0, 0, 0, 0, 0, 0, 0, 0, 0, 0, 0, 1, 1, 1, 1, 1, 1, 1, 1, 1, 0]], [['Con', 'respecto', 'a', 'el', '3G', ',', 'el', 'Nokia', '6300', 'no', 'dispone', 'de', 'él', ',', 'por', 'lo', 'que', 'no', 'tendremos', 'oportunidad', 'de', 'realizar', 'videollamadas', '.'], [3, 3, 3, 3, 3, 3, 3, 3, 3, 3, 3, 3, 3, 3, 3, 3, 3, 1, 3, 3, 3, 3, 3, 3], [0, 0, 0, 0, 0, 0, 0, 0, 0, 0, 0, 0, 0, 0, 0, 0, 0, 0, 1, 1, 1, 1, 1, 0]], [['Es', 'evidente', 'que', 'hay', 'más', '…', 'pero', ',', 'puesto', 'que', 'una', 'de', 'las', 'cosas', 'que', 'más', 'me', 'fastidia', 'de', 'ciao', '!', 'es', 'la', 'gente', 'que', 'confunde', 'comentar', 'una', 'película', 'con', 'desmenuzar', 'la', 'y', 'contar', 'te', 'hasta', 'el', 'malo', 'de', 'el', 'final', '…', 'no', 'voy', 'a', 'seguir', 'hablando', 'de', 'ellos', '…'], [3, 3, 3, 3, 3, 3, 3, 3, 3, 3, 3, 3, 3, 3, 3, 3, 3, 3, 3, 3, 3, 3, 3, 3, 3, 3, 3, 3, 3, 3, 3, 3, 3, 3, 3, 3, 3, 3, 3, 3, 3, 3, 1, 3, 3, 3, 3, 3, 3, 3], [0, 0, 0, 0, 0, 0, 0, 0, 0, 0, 0, 0, 0, 0, 0, 0, 0, 0, 0, 0, 0, 0, 0, 0, 0, 0, 0, 0, 0, 0, 0, 0, 0, 0, 0, 0, 0, 0, 0, 0, 0, 0, 0, 1, 1, 1, 1, 1, 1, 0]], [['La', 'sangre', 'fría', 'de', 'el', 'nada', 'encantador', 'Lord', 'Cutler', 'Beckett', '(', 'Tom', 'Hollander', ')', 'asciende', 'a', 'niveles', 'cada', 'vez', 'más', 'nefastos', '.'], [3, 3, 3, 3, 3, 1, 3, 3, 3, 3, 3, 3, 3, 3, 3, 3, 3, 3, 3, 3, 3, 3], [0, 0, 0, 0, 0, 0, 1, 0, 0, 0, 0, 0, 0, 0, 0, 0, 0, 0, 0, 0, 0, 0]], [['Un', 'PC', 'de', 'primeras', 'marcas', 'tiene', 'un', 'cierto', 'prestigio', 'que', 'se', 'paga', '(', 'salen', 'por', 'televisión', ',', '¿', 'no', '?', '.'], [3, 3, 3, 3, 3, 3, 3, 3, 3, 3, 3, 3, 3, 3, 3, 3, 3, 3, 1, 3, 3], [0, 0, 0, 0, 0, 0, 0, 0, 0, 0, 0, 0, 0, 0, 0, 0, 0, 0, 0, 0, 0]], [['Acabo', 'de', 'pasar', 'unos', 'días', 'en', 'el', 'Hotel', 'Príncipe', 'Pío', 'de', 'Madrid', 'y', 'ya', 'a', 'el', 'entrar', 'en', 'el', 'vestíbulo', 'te', 'das', 'cuenta', 'de', 'que', 'no', 'está', 'lo', 'cuidado', 'que', 'debería', '.'], [3, 3, 3, 3, 3, 3, 3, 3, 3, 3, 3, 3, 3, 3, 3, 3, 3, 3, 3, 3, 3, 3, 3, 3, 3, 1, 3, 3, 3, 3, 3, 3], [0, 0, 0, 0, 0, 0, 0, 0, 0, 0, 0, 0, 0, 0, 0, 0, 0, 0, 0, 0, 0, 0, 0, 0, 0, 0, 1, 1, 1, 1, 1, 0]], [['Así', 'que', '...', 'escenarios', 'geniales', 'para', 'el', 'tipo', 'de', 'película', 'que', 'es', ',', 'pero', 'repito', '...', 'no', 'apta', 'para', 'estómagos', 'sensibles', 'que', 'se', 'os', 'pueden', 'revolver', 'las', 'tripas', 'y', 'bueno', ',', 'bueno', '...', 'no', 'sigo', 'que', 'pareceré', 'la', 'guionista', 'de', 'Saw', 'xD'], [3, 3, 3, 3, 3, 3, 3, 3, 3, 3, 3, 3, 3, 3, 3, 3, 3, 3, 3, 3, 3, 3, 3, 3, 3, 3, 3, 3, 3, 3, 3, 3, 3, 1, 3, 3, 3, 3, 3, 3, 3, 3], [0, 0, 0, 0, 0, 0, 0, 0, 0, 0, 0, 0, 0, 0, 0, 0, 0, 0, 0, 0, 0, 0, 0, 0, 0, 0, 0, 0, 0, 0, 0, 0, 0, 0, 1, 0, 0, 0, 0, 0, 0, 0]], [['El', 'confort', 'de', 'marcha', 'es', 'bastante', 'bueno', 'pero', 'no', 'es', 'lo', 'que', 'más', 'destaca', 'en', 'el', 'coche', ',', 'es', 'estable', 'en', 'las', 'curvas', 'pero', 'un', 'firme', 'en', 'mal', 'estado', 'se', 'hace', 'notar', 'en', 'el', 'coche', 'y', 'el', 'agarre', 'en', 'condiciones', 'climatológicas', 'adversas', 'no', 'es', 'de', 'lo', 'mejor', 'q', 'tiene', 'pero', 'eso', 'es', 'cuestión', 'de', 'las', 'ruedas', ',', 'el', 'diseño', 'de', 'el', 'coche', 'optimiza', 'los', 'recursos', 'para', 'conseguir', 'la', 'máxima', 'estabilidad', 'posible', 'pero', 'las', 'ruedas', 'de', 'serie', 'no', 'hacen', 'todo', 'lo', 'que', 'debieran', 'para', 'aprovechar', 'todos', 'los', 'recursos', 'q', 'los', 'ingenieros', 'de', 'Opel', 'pusieron', 'a', 'el', 'alcance', 'de', 'este', 'vehículo', ',', 'todo', 'será', 'cuestión', 'de', 'cambiar', 'de', 'ruedas', 'y', 'poner', 'unas', 'un', 'poco', 'más', 'decentes', '.'], [3, 3, 3, 3, 3, 3, 3, 3, 1, 3, 3, 3, 3, 3, 3, 3, 3, 3, 3, 3, 3, 3, 3, 3, 3, 3, 3, 3, 3, 3, 3, 3, 3, 3, 3, 3, 3, 3, 3, 3, 3, 3, 3, 3, 3, 3, 3, 3, 3, 3, 3, 3, 3, 3, 3, 3, 3, 3, 3, 3, 3, 3, 3, 3, 3, 3, 3, 3, 3, 3, 3, 3, 3, 3, 3, 3, 3, 3, 3, 3, 3, 3, 3, 3, 3, 3, 3, 3, 3, 3, 3, 3, 3, 3, 3, 3, 3, 3, 3, 3, 3, 3, 3, 3, 3, 3, 3, 3, 3, 3, 3, 3, 3, 3, 3], [0, 0, 0, 0, 0, 0, 0, 0, 0, 1, 1, 1, 1, 1, 1, 1, 1, 0, 0, 0, 0, 0, 0, 0, 0, 0, 0, 0, 0, 0, 0, 0, 0, 0, 0, 0, 0, 0, 0, 0, 0, 0, 0, 0, 0, 0, 0, 0, 0, 0, 0, 0, 0, 0, 0, 0, 0, 0, 0, 0, 0, 0, 0, 0, 0, 0, 0, 0, 0, 0, 0, 0, 0, 0, 0, 0, 0, 0, 0, 0, 0, 0, 0, 0, 0, 0, 0, 0, 0, 0, 0, 0, 0, 0, 0, 0, 0, 0, 0, 0, 0, 0, 0, 0, 0, 0, 0, 0, 0, 0, 0, 0, 0, 0, 0]], [['El', 'modelo', 'no', 'da', 'problemas', ',', 'y', 'su', 'motor', 'se', 'utliza', 'con', 'éxito', 'en', 'otros', 'vehículos', 'de', 'el', 'fabricante', '.'], [3, 3, 1, 3, 3, 3, 3, 3, 3, 3, 3, 3, 3, 3, 3, 3, 3, 3, 3, 3], [1, 1, 0, 1, 1, 0, 0, 0, 0, 0, 0, 0, 0, 0, 0, 0, 0, 0, 0, 0]], [['En', 'la', 'película', 'no', 'podía', 'faltar', 'un', 'guiño', 'de', 'este', 'tipo', ',', 'y', 'ya', 'nada', 'más', 'comenzar', ',', 'tenemos', 'a', 'la', 'banda', 'Green', 'Day', 'tocando', '.'], [3, 3, 3, 3, 3, 3, 3, 3, 3, 3, 3, 3, 3, 3, 2, 2, 3, 3, 3, 3, 3, 3, 3, 3, 3, 3], [0, 0, 0, 0, 0, 0, 0, 0, 0, 0, 0, 0, 0, 0, 0, 0, 0, 0, 0, 0, 0, 0, 0, 0, 0, 0]], [['Una', 'trama', 'muy', 'bien', 'llevada', ',', 'un', 'entorno', 'conocido', 'y', 'unos', 'personajes', 'de', 'bastante', 'complejidad', 'hacen', 'que', 'esta', 'novela', 'no', 'sea', 'una', 'más', ',', 'es', 'una', 'de', 'las', 'mejores', 'que', 'he', 'podido', 'leer', 'relacionada', 'con', 'este', 'tipo', 'de', 'argumento', 'templario', '.'], [3, 3, 3, 3, 3, 3, 3, 3, 3, 3, 3, 3, 3, 3, 3, 3, 3, 3, 3, 1, 3, 3, 3, 3, 3, 3, 3, 3, 3, 3, 3, 3, 3, 3, 3, 3, 3, 3, 3, 3, 3], [0, 0, 0, 0, 0, 0, 0, 0, 0, 0, 0, 0, 0, 0, 0, 0, 0, 1, 1, 0, 1, 1, 1, 0, 0, 0, 0, 0, 0, 0, 0, 0, 0, 0, 0, 0, 0, 0, 0, 0, 0]]]\n"
          ]
        }
      ],
      "source": [
        "def preprocess_data(zipped, tokenizer_obj):\n",
        "    dl_sents = [item[0] for item in zipped]\n",
        "    dl_cues = [item[1] for item in zipped]\n",
        "    dl_scopes = [item[2] for item in zipped]\n",
        "\n",
        "    # print(dl_sents[1])\n",
        "    sentences = [\" \".join([s for s in sent]) for sent in dl_sents]\n",
        "    mytexts = []\n",
        "    mylabels = []\n",
        "    mycues = []\n",
        "    mymasks = []\n",
        "    if do_lower_case == True:\n",
        "        sentences_clean = [sent.lower() for sent in sentences]\n",
        "    else:\n",
        "        sentences_clean = sentences\n",
        "\n",
        "    for sent, tags, cues in zip(sentences_clean, dl_scopes, dl_cues):\n",
        "        new_tags = []\n",
        "        new_text = []\n",
        "        new_cues = []\n",
        "        new_masks = []\n",
        "        for word, tag, cue in zip(sent.split(), tags, cues):\n",
        "            sub_words = tokenizer_obj._tokenize(word)\n",
        "\n",
        "            # update tags and labels for subwords\n",
        "            for count, sub_word in enumerate(sub_words):\n",
        "                my_vocab.append(sub_word)\n",
        "                # the first subword is the true token\n",
        "                mask = 1\n",
        "                if count > 0:\n",
        "                    # all the other subwords that start with # receive a mask 0\n",
        "                    # these will be the true_token_masks\n",
        "                    mask = 0\n",
        "\n",
        "                # start collecting masks for true and not true tokens\n",
        "                new_masks.append(mask)\n",
        "\n",
        "                # tags(scope) and cue labels stay the same for all the subwords\n",
        "                new_tags.append(tag)\n",
        "                new_cues.append(cue)\n",
        "                new_text.append(sub_word)\n",
        "        # true and not true tokens\n",
        "        mymasks.append(new_masks)\n",
        "        mytexts.append(new_text)\n",
        "        mylabels.append(new_tags)\n",
        "        mycues.append(new_cues)\n",
        "\n",
        "    # start lists of final inputs\n",
        "    final_sentences = []\n",
        "    final_labels = []\n",
        "    final_masks = []\n",
        "    if method == 'replace':\n",
        "        for sent,cues in zip(mytexts, mycues):\n",
        "            temp_sent = []\n",
        "            for token,cue in zip(sent,cues):\n",
        "                if cue==3:\n",
        "                    temp_sent.append(token)\n",
        "                else:\n",
        "                    temp_sent.append(f'[unused{cue+1}]')\n",
        "            final_sentences.append(temp_sent)\n",
        "        final_labels = mylabels\n",
        "        final_masks = mymasks\n",
        "    elif method == 'augment':\n",
        "        # mylabels are scope tags\n",
        "        # input is already subword-tokenized by BERT\n",
        "        for sent, cues, labels, masks in zip(mytexts, mycues, mylabels, mymasks):\n",
        "\n",
        "            temp_sent = []\n",
        "            temp_label = []\n",
        "            temp_masks = []\n",
        "            first_part = 0\n",
        "            for token, cue, label, mask in zip(sent, cues, labels, masks):\n",
        "                # (token, 1, 0, 1)\n",
        "                # find cues\n",
        "                if cue!=3:\n",
        "                    if first_part == 0:\n",
        "                        first_part = 1\n",
        "                        # add special token\n",
        "                        temp_sent.append(f'[unused{cue+1}]')\n",
        "                        # true_token_labels\n",
        "                        temp_masks.append(1)\n",
        "                        # scope label is 0 because it is a special token\n",
        "                        temp_label.append(0)\n",
        "                        # reconstruct the sentence\n",
        "                        temp_sent.append(token)\n",
        "                        # the actual token receives ZERO as true_token_label\n",
        "                        temp_masks.append(0)\n",
        "                        # scope label remains the same for the entire group of subwords\n",
        "                        temp_label.append(label)\n",
        "                        continue\n",
        "                    # the other parts of the subword:\n",
        "                    # add special token\n",
        "                    temp_sent.append(f'[unused{cue+1}]')\n",
        "                    # true_token_label is FALSE\n",
        "                    temp_masks.append(0)\n",
        "                    # scope_label stays the same for all the subwords. It is 0 because it's a cue.\n",
        "                    temp_label.append(0)\n",
        "                else:\n",
        "                    # if the token is not a cue\n",
        "                    first_part = 0\n",
        "                temp_masks.append(mask)\n",
        "                temp_sent.append(token)\n",
        "                temp_label.append(label)\n",
        "            final_sentences.append(temp_sent)\n",
        "            final_labels.append(temp_label)\n",
        "            final_masks.append(temp_masks)\n",
        "    else:\n",
        "        raise ValueError(\"Supported methods for scope detection are:\\nreplace\\naugment\")\n",
        "\n",
        "    input_ids = pad_sequences([[tokenizer_obj._convert_token_to_id(word) for word in txt] for txt in final_sentences],\n",
        "                              maxlen=MAX_LEN, dtype=\"long\", truncating=\"post\", padding=\"post\").tolist()\n",
        "\n",
        "    tags = pad_sequences(final_labels,\n",
        "                        maxlen=MAX_LEN, value=0, padding=\"post\",\n",
        "                        dtype=\"long\", truncating=\"post\").tolist()\n",
        "\n",
        "    final_masks = pad_sequences(final_masks,\n",
        "                        maxlen=MAX_LEN, value=0, padding=\"post\",\n",
        "                        dtype=\"long\", truncating=\"post\").tolist()\n",
        "\n",
        "    attention_masks = [[float(i>0) for i in ii] for ii in input_ids]\n",
        "\n",
        "\n",
        "    return [input_ids, tags, final_masks, attention_masks]\n",
        "\n",
        "val_size = 0.20\n",
        "random_state_2 = np.random.randint(1,2019)\n",
        "\n",
        "# shuffle training data twice\n",
        "random.shuffle(zipped_train)\n",
        "random.shuffle(zipped_train)\n",
        "\n",
        "print(zipped_train[2:22])\n",
        "\n",
        "train_input_ids, train_tags, train_final_masks, train_attention_masks = preprocess_data(zipped_train, tokenizer)\n",
        "\n",
        "tr_inputs, val_inputs, tr_tags, val_tags = train_test_split(train_input_ids, train_tags, test_size=val_size, random_state = random_state_2)\n",
        "tr_masks, val_masks, _, _ = train_test_split(train_attention_masks, train_input_ids, test_size=val_size, random_state = random_state_2)\n",
        "tr_mymasks, val_mymasks, _, _ = train_test_split(train_final_masks, train_input_ids, test_size=val_size, random_state = random_state_2)\n",
        "\n",
        "tr_inputs = torch.LongTensor(tr_inputs)\n",
        "tr_tags = torch.LongTensor(tr_tags)\n",
        "tr_masks = torch.LongTensor(tr_masks)\n",
        "tr_mymasks = torch.LongTensor(tr_mymasks)\n",
        "\n",
        "val_inputs = torch.LongTensor(val_inputs)\n",
        "val_tags = torch.LongTensor(val_tags)\n",
        "val_masks = torch.LongTensor(val_masks)\n",
        "val_mymasks = torch.LongTensor(val_mymasks)\n",
        "\n",
        "train_data = TensorDataset(tr_inputs, tr_masks, tr_tags, tr_mymasks)\n",
        "train_sampler = RandomSampler(train_data)\n",
        "train_dataloader = DataLoader(train_data, sampler=train_sampler, batch_size=bs)\n",
        "\n",
        "val_data = TensorDataset(val_inputs, val_masks, val_tags, val_mymasks)\n",
        "val_sampler = RandomSampler(val_data)\n",
        "val_dataloaders = DataLoader(val_data, sampler=val_sampler, batch_size=bs)"
      ]
    },
    {
      "cell_type": "code",
      "execution_count": null,
      "metadata": {
        "id": "ikdDG1vILFG6"
      },
      "outputs": [],
      "source": [
        "def f1_scope(y_true, y_pred, level = 'token'): #This is for gold cue annotation scope, thus the precision is always 1.\n",
        "    # print('Now we are executing the f1_scope function')\n",
        "    # y_true = actual_logits, y_pred = actual_label_ids\n",
        "    # ([0, 1, 0, 0, 0, 0, 0, 0, 0, 0, 0, 0], [0, 1, 1, 1, 1, 1, 1, 1, 1, 1, 1, 1])\n",
        "\n",
        "    if level == 'token':\n",
        "        print(f\"Token level scope F1 Score: {f1_score([i for i in j for j in y_true], [i for i in j for j in y_pred])}\")\n",
        "    elif level == 'scope':\n",
        "        tp = 0\n",
        "        fn = 0\n",
        "        fp = 0\n",
        "        for y_t, y_p in zip(y_true, y_pred):\n",
        "            if y_t == y_p:\n",
        "                tp+=1\n",
        "            else:\n",
        "                fn+=1\n",
        "        prec = 1\n",
        "        rec = tp/(tp+fn)\n",
        "        # print(f\"Precision_f1scope_function: {prec}\")\n",
        "        # print(f\"Recall_f1scope_function: {rec}\")\n",
        "        print(f\"F1 Score_f1scope_function: {2*prec*rec/(prec+rec)}\")\n",
        "\n",
        "def flat_accuracy(preds, labels, input_mask = None):\n",
        "    pred_flat = [i for j in preds for i in j]\n",
        "    labels_flat = [i for j in labels for i in j]\n",
        "    return sum([1 if i==j else 0 for i,j in zip(pred_flat,labels_flat)]) / len(labels_flat)\n",
        "\n",
        "def scope_accuracy(preds, labels):\n",
        "    correct_count = 0\n",
        "    count = 0\n",
        "    for i,j in zip(preds, labels):\n",
        "        if i==j:\n",
        "            correct_count+=1\n",
        "        count+=1\n",
        "    return correct_count/count\n",
        "\n",
        "class EarlyStopping:\n",
        "    \"\"\"Early stops the training if validation loss doesn't improve after a given patience.\"\"\"\n",
        "    def __init__(self, patience=7, verbose=False):\n",
        "        \"\"\"\n",
        "        Args:\n",
        "            patience (int): How long to wait after last time validation loss improved.\n",
        "                            Default: 7\n",
        "            verbose (bool): If True, prints a message for each validation loss improvement.\n",
        "                            Default: False\n",
        "        \"\"\"\n",
        "        self.patience = patience\n",
        "        self.verbose = verbose\n",
        "        self.counter = 0\n",
        "        self.best_score = None\n",
        "        self.early_stop = False\n",
        "        self.val_f1 = 0\n",
        "\n",
        "    # Defining a custom __call__() method in the meta-class allows the class's instance to be called as a function, not always modifying the instance itself.\n",
        "    # __call__ implements function call operator.\n",
        "    def __call__(self, score, model):\n",
        "\n",
        "        #score = -val_loss\n",
        "\n",
        "        if self.best_score is None:\n",
        "            # set new score and save model\n",
        "            self.best_score = score\n",
        "            self.save_checkpoint(score, model)\n",
        "        elif score < self.best_score:\n",
        "            # Early Stopping Trigger\n",
        "            # if the new score is worse than before, start counting epochs\n",
        "            self.counter += 1\n",
        "            print(f'EarlyStopping counter: {self.counter} out of {self.patience}')\n",
        "\n",
        "            # if counted epochs are more than patience limit, implement early stopping.\n",
        "            if self.counter >= self.patience:\n",
        "                self.early_stop = True\n",
        "        else:\n",
        "            # if the score is bigger than before, set new score, save model and cancel patience by resetting the epoch counter to 0\n",
        "            self.best_score = score\n",
        "            self.save_checkpoint(score, model)\n",
        "            self.counter = 0\n",
        "\n",
        "    def save_checkpoint(self, val_f1, model):\n",
        "        '''Saves model when validation loss decrease.'''\n",
        "        if self.verbose:\n",
        "            print(f'Validation F1 increased ({self.val_f1:.6f} --> {val_f1:.6f}).  Saving model ...')\n",
        "\n",
        "        # torch.save saves a serialized object to disk. This function uses Python’s pickle utility for serialization.\n",
        "        # Models, tensors, and dictionaries of all kinds of objects can be saved using this function.\n",
        "        if 'multilingual' in SCOPE_MODEL:\n",
        "          torch.save(model, model_name)\n",
        "          self.val_f1 = val_f1\n",
        "\n",
        "        elif 'roberta' in SCOPE_MODEL:\n",
        "          model.save_pretrained(root)\n",
        "          self.val_f1 = val_f1\n",
        "\n"
      ]
    },
    {
      "cell_type": "markdown",
      "metadata": {
        "id": "by2QIpSqLMuQ"
      },
      "source": [
        "# Scope model"
      ]
    },
    {
      "cell_type": "code",
      "execution_count": null,
      "metadata": {
        "id": "gNkZC5AILMQY"
      },
      "outputs": [],
      "source": [
        "class ScopeModel:\n",
        "    def __init__(self, full_finetuning = True, train = False, pretrained_model_path = 'Scope_Resolution_Augment.pickle', device = 'cuda', learning_rate = 3e-5):\n",
        "        self.model_name = SCOPE_MODEL\n",
        "        self.task = TASK\n",
        "        self.num_labels = 2\n",
        "        if train == True:\n",
        "            if 'roberta' in SCOPE_MODEL:\n",
        "                self.model = XLMRobertaForTokenClassification.from_pretrained(SCOPE_MODEL, num_labels=self.num_labels, cache_dir = 'xlm-roberta-base-model')\n",
        "            elif 'bert_base_uncased' in SCOPE_MODEL:\n",
        "                self.model = BertForTokenClassification.from_pretrained(SCOPE_MODEL, num_labels=self.num_labels, cache_dir = 'bert_base_uncased_model')\n",
        "            elif 'bert-base-multilingual' in SCOPE_MODEL:\n",
        "                print('bert-base-multilingual')\n",
        "                self.model = BertForTokenClassification.from_pretrained(SCOPE_MODEL, num_hidden_layers=12, num_labels=self.num_labels, cache_dir = 'bert-base-multilingual_cased_model')\n",
        "            else:\n",
        "                raise ValueError(\"Supported model types are: xlnet, roberta, bert\")\n",
        "        else:\n",
        "            self.model = torch.load(pretrained_model_path)\n",
        "        self.device = torch.device(device)\n",
        "        if device=='cuda':\n",
        "            self.model.cuda()\n",
        "        else:\n",
        "            self.model.cpu()\n",
        "\n",
        "        if full_finetuning:\n",
        "            param_optimizer = list(self.model.named_parameters())\n",
        "            no_decay = ['bias', 'gamma', 'beta']\n",
        "            optimizer_grouped_parameters = [\n",
        "                {'params': [p for n, p in param_optimizer if not any(nd in n for nd in no_decay)],\n",
        "                 'weight_decay_rate': 0.01},\n",
        "                {'params': [p for n, p in param_optimizer if any(nd in n for nd in no_decay)],\n",
        "                 'weight_decay_rate': 0.0}\n",
        "            ]\n",
        "        else:\n",
        "            param_optimizer = list(self.model.classifier.named_parameters())\n",
        "            optimizer_grouped_parameters = [{\"params\": [p for n, p in param_optimizer]}]\n",
        "        self.optimizer = Adam(optimizer_grouped_parameters, lr=learning_rate)\n",
        "\n",
        "\n",
        "    def train(self, train_dataloader, valid_dataloaders, epochs = 5, max_grad_norm = 1.0, patience = 3):\n",
        "        print('Working on it...')\n",
        "        return_dict = {\"Task\": f\"{self.task} Scope Resolution\",\n",
        "                       \"Model\": self.model_name,\n",
        "                       \"Best Precision\": 0,\n",
        "                       \"Best Recall\": 0,\n",
        "                       \"Best F1\": 0}\n",
        "        train_loss = []\n",
        "        train_loss_per_epoch = []\n",
        "        valid_loss = []\n",
        "        valid_loss_per_epoch = []\n",
        "        F1scores = []\n",
        "\n",
        "        # create an instance of the EarlyStopping class\n",
        "        early_stopping = EarlyStopping(patience=patience, verbose=True)\n",
        "        loss_fn = CrossEntropyLoss()\n",
        "        # train over the entire corpus for N number of epochs\n",
        "        for _ in tqdm(range(epochs), desc=\"Epoch\"):\n",
        "            # set the training flag\n",
        "            self.model.train()\n",
        "            # training loss per Epoch\n",
        "            tr_loss = 0\n",
        "            # count training steps and ...\n",
        "            nb_tr_examples, nb_tr_steps = 0, 0\n",
        "            # iterate over the training set one batch at a time\n",
        "            for step, batch in enumerate(train_dataloader):\n",
        "                # self.model.zero_grad()\n",
        "                batch = tuple(t.to(self.device) for t in batch)\n",
        "                # print(len(batch))\n",
        "                # unpack the data from batch\n",
        "                # tokenIDs, attention_masks, scope_labels, true_token_labels\n",
        "                b_input_ids, b_input_mask, b_labels, b_mymasks = batch\n",
        "\n",
        "                # ### FORWARD PASS ###\n",
        "                # logits are the last hidden-state: the first element of the output tuple\n",
        "                # b_input_ids have a size (batc_size, sequence_length)\n",
        "                # token_type_ids is for entailment tasks. Here we have a single sentence task.\n",
        "                # logits are classification scores (before SoftMax)\n",
        "                logits = self.model(b_input_ids, token_type_ids=None,\n",
        "                             attention_mask=b_input_mask)[0]\n",
        "                # logits.size([8, 128, 2]): batch size, sequence length, config.num_labels\n",
        "                # 8 matrices: 128 rows and 2 columns each\n",
        "\n",
        "                # attention_masks\n",
        "                # b_input_mask.size() = [8, 128] 8 is batch size, 128 is sentence length\n",
        "                # b_input_mask.view(-1).size() = [1024] <= 8x128\n",
        "                # active_loss is a vector with 1024 True and False values where False are for padding tokens.\n",
        "                active_loss = b_input_mask.view(-1) == 1\n",
        "                # reducing logits to the ones that correspond to True attention masks\n",
        "                active_logits = logits.view(-1, self.num_labels)[active_loss] #2 is num_labels\n",
        "                # active logits size depends on the number of True values in the active_loss vector\n",
        "\n",
        "                # scope labels\n",
        "                active_labels = b_labels.view(-1)[active_loss]\n",
        "\n",
        "                # take active weights (logits) for tokens and active scope labels and calculate loss with CrossEntropy\n",
        "                loss = loss_fn(active_logits, active_labels)\n",
        "                # print 80 lines of loss per epoch\n",
        "                # loss:  tensor(0.0328, device='cuda:0', grad_fn=<NllLossBackward>)\n",
        "\n",
        "                # ### BACKWARD PASS ###\n",
        "                # ### MAGIC PART    ###\n",
        "                # loss is a tensor with a single value in it, but it references back to all the parameters that went into computing that loss.\n",
        "                # invoking .backward() on loss will go and calculate all the gradients that were involved in calculating this value.\n",
        "                # we basically perform the backward pass.\n",
        "                loss.backward()\n",
        "                # accumulate the total training loss\n",
        "                # item() function extracts the python value out of the tensor.\n",
        "                tr_loss += loss.item()\n",
        "                # collect train loss per iteration for plotting\n",
        "                train_loss.append(loss.item())\n",
        "                # if step%100 == 0:\n",
        "                    # print(f\"Batch {step}, loss {loss.item()}\")\n",
        "                nb_tr_examples += b_input_ids.size(0)\n",
        "                # number of batches\n",
        "                nb_tr_steps += 1\n",
        "\n",
        "                # ### CLIP GRADIENTS ###\n",
        "                # gradient clipping is a technique to prevent \"exploding gradients\"\n",
        "                torch.nn.utils.clip_grad_norm_(parameters=self.model.parameters(), max_norm=max_grad_norm)\n",
        "\n",
        "                # ### OPTIMIZER ###\n",
        "                # optimizer makes adjustments to the weights\n",
        "                self.optimizer.step()\n",
        "\n",
        "                # ### CLEAR GRADIENTS ###\n",
        "                # clear gradients ACHTUNG!!! McCormick says that it is important to clear the gradients BEFORE the invocation of the forward pass of the model!\n",
        "                self.model.zero_grad()\n",
        "                # NO SCHEDULER?!\n",
        "\n",
        "            # collect train loss per epoch\n",
        "            train_loss_per_epoch.append(tr_loss/nb_tr_steps)\n",
        "            # print(\"Train loss: {}\".format(tr_loss/nb_tr_steps))\n",
        "\n",
        "\n",
        "            # ### EVALUATE ON VALIDATION SET ###\n",
        "            self.model.eval()\n",
        "            # F1scores = []\n",
        "            eval_loss, eval_accuracy, eval_scope_accuracy = 0, 0, 0\n",
        "            nb_eval_steps, nb_eval_examples = 0, 0\n",
        "            predictions , true_labels, ip_mask = [], [], []\n",
        "            loss_fn = CrossEntropyLoss()\n",
        "            # for valid_dataloader in valid_dataloaders:\n",
        "            for batch in valid_dataloaders:\n",
        "                batch = tuple(t.to(self.device) for t in batch)\n",
        "                # print(len(batch))\n",
        "                b_input_ids, b_input_mask, b_labels, b_mymasks = batch\n",
        "\n",
        "                with torch.no_grad():\n",
        "\n",
        "                    logits = self.model(b_input_ids, token_type_ids=None,\n",
        "                                  attention_mask=b_input_mask)[0]\n",
        "                    active_loss = b_input_mask.view(-1) == 1\n",
        "                    active_logits = logits.view(-1, self.num_labels)[active_loss]\n",
        "                    active_labels = b_labels.view(-1)[active_loss]\n",
        "                    tmp_eval_loss = loss_fn(active_logits, active_labels)\n",
        "\n",
        "                logits = logits.detach().cpu().numpy()\n",
        "                label_ids = b_labels.to('cpu').numpy()\n",
        "                b_input_ids = b_input_ids.to('cpu').numpy()\n",
        "\n",
        "                mymasks = b_mymasks.to('cpu').numpy()\n",
        "\n",
        "                logits = [list(p) for p in logits]\n",
        "\n",
        "                actual_logits = []\n",
        "                actual_label_ids = []\n",
        "\n",
        "                # logits, scope_labels, true_token_labels, tokenIDs\n",
        "                for l,lid,m,b_ii in zip(logits, label_ids, mymasks, b_input_ids):\n",
        "\n",
        "                    # zip (scope_labels and true_token_label if true_token_label == 1)\n",
        "                    actual_label_ids.append([i for i,j in zip(lid, m) if j==1])\n",
        "                    my_logits = []\n",
        "                    curr_preds = []\n",
        "                    in_split = 0\n",
        "                    # zip (logits, true_token_labels, tokenIDs)\n",
        "                    for i,j,k in zip(l,m, b_ii):\n",
        "                        '''if k == 0:\n",
        "                            break'''\n",
        "                        # if true_token_labels == 1\n",
        "                        if j==1:\n",
        "                            if in_split == 1:\n",
        "                                if len(my_logits)>0:\n",
        "                                    curr_preds.append(my_logits[-1])\n",
        "                                mode_pred = np.argmax(np.average(np.array(curr_preds), axis=0), axis=0)\n",
        "                                if len(my_logits)>0:\n",
        "                                    my_logits[-1] = mode_pred\n",
        "                                else:\n",
        "                                    my_logits.append(mode_pred)\n",
        "                                curr_preds = []\n",
        "                                in_split = 0\n",
        "                            my_logits.append(np.argmax(i))\n",
        "                        if j==0:\n",
        "                            curr_preds.append(i)\n",
        "                            in_split = 1\n",
        "                    if in_split == 1:\n",
        "                        if len(my_logits)>0:\n",
        "                            curr_preds.append(my_logits[-1])\n",
        "                        mode_pred = np.argmax(np.average(np.array(curr_preds), axis=0), axis=0)\n",
        "                        if len(my_logits)>0:\n",
        "                            my_logits[-1] = mode_pred\n",
        "                        else:\n",
        "                            my_logits.append(mode_pred)\n",
        "                    actual_logits.append(my_logits)\n",
        "\n",
        "                predictions.append(actual_logits)\n",
        "                true_labels.append(actual_label_ids)\n",
        "\n",
        "                tmp_eval_accuracy = flat_accuracy(actual_logits, actual_label_ids)\n",
        "                tmp_eval_scope_accuracy = scope_accuracy(actual_logits, actual_label_ids)\n",
        "                eval_scope_accuracy += tmp_eval_scope_accuracy\n",
        "                valid_loss.append(tmp_eval_loss.mean().item())\n",
        "\n",
        "                eval_loss += tmp_eval_loss.mean().item()\n",
        "                eval_accuracy += tmp_eval_accuracy\n",
        "\n",
        "                nb_eval_examples += len(b_input_ids)\n",
        "                nb_eval_steps += 1\n",
        "            eval_loss = eval_loss/nb_eval_steps\n",
        "            valid_loss_per_epoch.append(eval_loss)\n",
        "            print(\"Validation loss: {}\".format(eval_loss))\n",
        "            print(\"Validation Accuracy: {}\".format(eval_accuracy/nb_eval_steps))\n",
        "            print(\"Validation Accuracy Scope Level: {}\".format(eval_scope_accuracy/nb_eval_steps))\n",
        "            f1_scope([j for i in true_labels for j in i], [j for i in predictions for j in i], level='scope')\n",
        "            labels_flat = [l_ii for l in true_labels for l_i in l for l_ii in l_i]\n",
        "            pred_flat = [p_ii for p in predictions for p_i in p for p_ii in p_i]\n",
        "            classification_dict = classification_report(labels_flat, pred_flat, output_dict=True)\n",
        "            p = classification_dict[\"1\"][\"precision\"]\n",
        "            r = classification_dict[\"1\"][\"recall\"]\n",
        "            f1 = classification_dict[\"1\"][\"f1-score\"]\n",
        "            F1scores.append(f1)\n",
        "            if f1>return_dict['Best F1']:\n",
        "                return_dict['Best F1'] = f1\n",
        "                return_dict['Best Precision'] = p\n",
        "                return_dict['Best Recall'] = r\n",
        "            print(\"F1-Score Token: {}\".format(f1))\n",
        "            print(classification_report(labels_flat, pred_flat, digits=4))\n",
        "\n",
        "            # thanks to __call__ method we can call the EarlyStopping class as a function\n",
        "            early_stopping(f1, self.model)\n",
        "            if early_stopping.early_stop:\n",
        "                print(\"Early stopping\")\n",
        "                print('-----------------------------------------------')\n",
        "                break\n",
        "\n",
        "        # torch.save(self.model.state_dict(), 'checkpoint.pt')\n",
        "        print('Average dev F1-score', round(sum(F1scores)/len(F1scores) * 100, 2))\n",
        "        fig, ax1 = plt.subplots(figsize=[15, 4.8])\n",
        "\n",
        "        ax1.set_xlabel('Epochs')\n",
        "        ax1.set_ylabel('Loss')\n",
        "\n",
        "        ax1.plot([i for i in range(len(train_loss_per_epoch))], train_loss_per_epoch, label='training')\n",
        "        ax1.plot([i for i in range(len(valid_loss_per_epoch))], valid_loss_per_epoch, label='validation', marker='*')\n",
        "        ax1.tick_params(axis='y')\n",
        "\n",
        "        ax2 = ax1.twinx()\n",
        "        ax2.set_ylabel('F1-score', color='green')\n",
        "        ax2.plot([i for i in range(len(F1scores))], F1scores, color='green', marker='o', linestyle='dashed')\n",
        "        ax2.tick_params(axis='y', labelcolor='green')\n",
        "        fig.tight_layout()\n",
        "        fig.legend(loc='upper left', bbox_to_anchor=(0.05, 0.96))\n",
        "        plt.figure()\n",
        "        # plt.show()\n",
        "        return return_dict\n"
      ]
    },
    {
      "cell_type": "code",
      "execution_count": null,
      "metadata": {
        "colab": {
          "base_uri": "https://localhost:8080/"
        },
        "id": "rmwlhdmgqPk2",
        "outputId": "94a1b14e-324b-4a6a-9a28-6414674ece42"
      },
      "outputs": [
        {
          "data": {
            "text/plain": [
              "PreTrainedTokenizer(name_or_path='xlm-roberta-base', vocab_size=250002, model_max_len=512, is_fast=False, padding_side='right', special_tokens={'bos_token': '<s>', 'eos_token': '</s>', 'unk_token': '<unk>', 'sep_token': '</s>', 'pad_token': '<pad>', 'cls_token': '<s>', 'mask_token': '<mask>'})"
            ]
          },
          "execution_count": 65,
          "metadata": {
            "tags": []
          },
          "output_type": "execute_result"
        }
      ],
      "source": [
        "tokenizer"
      ]
    },
    {
      "cell_type": "code",
      "execution_count": null,
      "metadata": {
        "colab": {
          "base_uri": "https://localhost:8080/"
        },
        "id": "wqp-LdMXeDyg",
        "outputId": "3e66bb4a-290d-4f01-8413-0851858a0cf4"
      },
      "outputs": [
        {
          "name": "stderr",
          "output_type": "stream",
          "text": [
            "Some weights of the model checkpoint at xlm-roberta-base were not used when initializing XLMRobertaForTokenClassification: ['lm_head.bias', 'lm_head.dense.weight', 'lm_head.dense.bias', 'lm_head.layer_norm.weight', 'lm_head.layer_norm.bias', 'lm_head.decoder.weight']\n",
            "- This IS expected if you are initializing XLMRobertaForTokenClassification from the checkpoint of a model trained on another task or with another architecture (e.g. initializing a BertForSequenceClassification model from a BertForPreTraining model).\n",
            "- This IS NOT expected if you are initializing XLMRobertaForTokenClassification from the checkpoint of a model that you expect to be exactly identical (initializing a BertForSequenceClassification model from a BertForSequenceClassification model).\n",
            "Some weights of XLMRobertaForTokenClassification were not initialized from the model checkpoint at xlm-roberta-base and are newly initialized: ['classifier.weight', 'classifier.bias']\n",
            "You should probably TRAIN this model on a down-stream task to be able to use it for predictions and inference.\n"
          ]
        }
      ],
      "source": [
        "model = ScopeModel(full_finetuning=True, train=True, learning_rate = INITIAL_LEARNING_RATE)"
      ]
    },
    {
      "cell_type": "code",
      "execution_count": null,
      "metadata": {
        "colab": {
          "base_uri": "https://localhost:8080/"
        },
        "id": "knDzDRDAt9rF",
        "outputId": "2ee7f313-15df-45ca-bcd3-6ed203a60056"
      },
      "outputs": [
        {
          "name": "stderr",
          "output_type": "stream",
          "text": [
            "\n",
            "\n",
            "\n",
            "Epoch:   0%|          | 0/32 [00:00<?, ?it/s]\u001b[A\u001b[A\u001b[A"
          ]
        },
        {
          "name": "stdout",
          "output_type": "stream",
          "text": [
            "Working on it...\n"
          ]
        },
        {
          "name": "stderr",
          "output_type": "stream",
          "text": [
            "/usr/local/lib/python3.6/dist-packages/ipykernel_launcher.py:184: VisibleDeprecationWarning: Creating an ndarray from ragged nested sequences (which is a list-or-tuple of lists-or-tuples-or ndarrays with different lengths or shapes) is deprecated. If you meant to do this, you must specify 'dtype=object' when creating the ndarray\n",
            "/usr/local/lib/python3.6/dist-packages/ipykernel_launcher.py:198: VisibleDeprecationWarning: Creating an ndarray from ragged nested sequences (which is a list-or-tuple of lists-or-tuples-or ndarrays with different lengths or shapes) is deprecated. If you meant to do this, you must specify 'dtype=object' when creating the ndarray\n"
          ]
        },
        {
          "name": "stdout",
          "output_type": "stream",
          "text": [
            "Validation loss: 0.12113963491580587\n",
            "Validation Accuracy: 0.9623697739190376\n",
            "Validation Accuracy Scope Level: 0.5531914893617021\n",
            "F1 Score_f1scope_function: 0.7123287671232876\n",
            "F1-Score Token: 0.8359923420548819\n",
            "              precision    recall  f1-score   support\n",
            "\n",
            "           0     0.9736    0.9840    0.9788     12042\n",
            "           1     0.8716    0.8032    0.8360      1631\n",
            "\n",
            "    accuracy                         0.9624     13673\n",
            "   macro avg     0.9226    0.8936    0.9074     13673\n",
            "weighted avg     0.9615    0.9624    0.9617     13673\n",
            "\n",
            "Validation F1 increased (0.000000 --> 0.835992).  Saving model ...\n"
          ]
        },
        {
          "name": "stderr",
          "output_type": "stream",
          "text": [
            "\n",
            "\n",
            "\n",
            "Epoch:   3%|▎         | 1/32 [03:03<1:34:59, 183.85s/it]\u001b[A\u001b[A\u001b[A"
          ]
        },
        {
          "name": "stdout",
          "output_type": "stream",
          "text": [
            "Validation loss: 0.09318349706603492\n",
            "Validation Accuracy: 0.9697207886663122\n",
            "Validation Accuracy Scope Level: 0.648936170212766\n",
            "F1 Score_f1scope_function: 0.7870967741935483\n",
            "F1-Score Token: 0.8781525372227286\n",
            "              precision    recall  f1-score   support\n",
            "\n",
            "           0     0.9845    0.9821    0.9833     12042\n",
            "           1     0.8705    0.8860    0.8782      1631\n",
            "\n",
            "    accuracy                         0.9707     13673\n",
            "   macro avg     0.9275    0.9341    0.9307     13673\n",
            "weighted avg     0.9709    0.9707    0.9708     13673\n",
            "\n",
            "Validation F1 increased (0.835992 --> 0.878153).  Saving model ...\n"
          ]
        },
        {
          "name": "stderr",
          "output_type": "stream",
          "text": [
            "\n",
            "\n",
            "\n",
            "Epoch:   6%|▋         | 2/32 [06:07<1:31:52, 183.76s/it]\u001b[A\u001b[A\u001b[A"
          ]
        },
        {
          "name": "stdout",
          "output_type": "stream",
          "text": [
            "Validation loss: 0.0973850075016789\n",
            "Validation Accuracy: 0.9723887554934506\n",
            "Validation Accuracy Scope Level: 0.7074468085106383\n",
            "F1 Score_f1scope_function: 0.8286604361370716\n",
            "F1-Score Token: 0.8824257425742574\n",
            "              precision    recall  f1-score   support\n",
            "\n",
            "           0     0.9830    0.9855    0.9842     12042\n",
            "           1     0.8907    0.8743    0.8824      1631\n",
            "\n",
            "    accuracy                         0.9722     13673\n",
            "   macro avg     0.9369    0.9299    0.9333     13673\n",
            "weighted avg     0.9720    0.9722    0.9721     13673\n",
            "\n",
            "Validation F1 increased (0.878153 --> 0.882426).  Saving model ...\n"
          ]
        },
        {
          "name": "stderr",
          "output_type": "stream",
          "text": [
            "\n",
            "\n",
            "\n",
            "Epoch:   9%|▉         | 3/32 [09:10<1:28:44, 183.62s/it]\u001b[A\u001b[A\u001b[A"
          ]
        },
        {
          "name": "stdout",
          "output_type": "stream",
          "text": [
            "Validation loss: 0.10944745495687536\n",
            "Validation Accuracy: 0.9727611106450353\n",
            "Validation Accuracy Scope Level: 0.7154255319148937\n",
            "F1 Score_f1scope_function: 0.834108527131783\n",
            "F1-Score Token: 0.8877332517589478\n",
            "              precision    recall  f1-score   support\n",
            "\n",
            "           0     0.9850    0.9845    0.9848     12042\n",
            "           1     0.8858    0.8896    0.8877      1631\n",
            "\n",
            "    accuracy                         0.9732     13673\n",
            "   macro avg     0.9354    0.9371    0.9362     13673\n",
            "weighted avg     0.9732    0.9732    0.9732     13673\n",
            "\n",
            "Validation F1 increased (0.882426 --> 0.887733).  Saving model ...\n"
          ]
        },
        {
          "name": "stderr",
          "output_type": "stream",
          "text": [
            "\n",
            "\n",
            "\n",
            "Epoch:  12%|█▎        | 4/32 [12:13<1:25:33, 183.36s/it]\u001b[A\u001b[A\u001b[A"
          ]
        },
        {
          "name": "stdout",
          "output_type": "stream",
          "text": [
            "Validation loss: 0.11131910804877097\n",
            "Validation Accuracy: 0.9746839990399176\n",
            "Validation Accuracy Scope Level: 0.7446808510638298\n",
            "F1 Score_f1scope_function: 0.8536585365853657\n",
            "F1-Score Token: 0.9037126471476005\n",
            "              precision    recall  f1-score   support\n",
            "\n",
            "           0     0.9888    0.9846    0.9867     12042\n",
            "           1     0.8900    0.9178    0.9037      1631\n",
            "\n",
            "    accuracy                         0.9767     13673\n",
            "   macro avg     0.9394    0.9512    0.9452     13673\n",
            "weighted avg     0.9770    0.9767    0.9768     13673\n",
            "\n",
            "Validation F1 increased (0.887733 --> 0.903713).  Saving model ...\n"
          ]
        },
        {
          "name": "stderr",
          "output_type": "stream",
          "text": [
            "\n",
            "\n",
            "\n",
            "Epoch:  16%|█▌        | 5/32 [15:16<1:22:24, 183.14s/it]\u001b[A\u001b[A\u001b[A\n",
            "\n",
            "\n",
            "Epoch:  19%|█▉        | 6/32 [18:12<1:18:29, 181.12s/it]\u001b[A\u001b[A\u001b[A"
          ]
        },
        {
          "name": "stdout",
          "output_type": "stream",
          "text": [
            "Validation loss: 0.11899105098068793\n",
            "Validation Accuracy: 0.9742638694898565\n",
            "Validation Accuracy Scope Level: 0.7127659574468085\n",
            "F1 Score_f1scope_function: 0.8322981366459626\n",
            "F1-Score Token: 0.8961267605633803\n",
            "              precision    recall  f1-score   support\n",
            "\n",
            "           0     0.9913    0.9792    0.9852     12042\n",
            "           1     0.8593    0.9362    0.8961      1631\n",
            "\n",
            "    accuracy                         0.9741     13673\n",
            "   macro avg     0.9253    0.9577    0.9407     13673\n",
            "weighted avg     0.9755    0.9741    0.9746     13673\n",
            "\n",
            "EarlyStopping counter: 1 out of 9\n"
          ]
        },
        {
          "name": "stderr",
          "output_type": "stream",
          "text": [
            "\n",
            "\n",
            "\n",
            "Epoch:  22%|██▏       | 7/32 [21:08<1:14:48, 179.53s/it]\u001b[A\u001b[A\u001b[A"
          ]
        },
        {
          "name": "stdout",
          "output_type": "stream",
          "text": [
            "Validation loss: 0.1252666656955819\n",
            "Validation Accuracy: 0.9753796904585752\n",
            "Validation Accuracy Scope Level: 0.7446808510638298\n",
            "F1 Score_f1scope_function: 0.8536585365853657\n",
            "F1-Score Token: 0.902446577887891\n",
            "              precision    recall  f1-score   support\n",
            "\n",
            "           0     0.9856    0.9883    0.9869     12042\n",
            "           1     0.9118    0.8933    0.9024      1631\n",
            "\n",
            "    accuracy                         0.9770     13673\n",
            "   macro avg     0.9487    0.9408    0.9447     13673\n",
            "weighted avg     0.9768    0.9770    0.9769     13673\n",
            "\n",
            "EarlyStopping counter: 2 out of 9\n",
            "Validation loss: 0.11604311472013037\n",
            "Validation Accuracy: 0.9780946162232753\n",
            "Validation Accuracy Scope Level: 0.7553191489361702\n",
            "F1 Score_f1scope_function: 0.8606060606060607\n",
            "F1-Score Token: 0.9090361445783133\n",
            "              precision    recall  f1-score   support\n",
            "\n",
            "           0     0.9898    0.9851    0.9874     12042\n",
            "           1     0.8934    0.9252    0.9090      1631\n",
            "\n",
            "    accuracy                         0.9779     13673\n",
            "   macro avg     0.9416    0.9551    0.9482     13673\n",
            "weighted avg     0.9783    0.9779    0.9781     13673\n",
            "\n",
            "Validation F1 increased (0.903713 --> 0.909036).  Saving model ...\n"
          ]
        },
        {
          "name": "stderr",
          "output_type": "stream",
          "text": [
            "\n",
            "\n",
            "\n",
            "Epoch:  25%|██▌       | 8/32 [24:10<1:12:05, 180.23s/it]\u001b[A\u001b[A\u001b[A\n",
            "\n",
            "\n",
            "Epoch:  28%|██▊       | 9/32 [27:05<1:08:32, 178.80s/it]\u001b[A\u001b[A\u001b[A"
          ]
        },
        {
          "name": "stdout",
          "output_type": "stream",
          "text": [
            "Validation loss: 0.12652362667722628\n",
            "Validation Accuracy: 0.9779317486570313\n",
            "Validation Accuracy Scope Level: 0.7367021276595744\n",
            "F1 Score_f1scope_function: 0.8483920367534457\n",
            "F1-Score Token: 0.9054972205064854\n",
            "              precision    recall  f1-score   support\n",
            "\n",
            "           0     0.9863    0.9883    0.9873     12042\n",
            "           1     0.9123    0.8988    0.9055      1631\n",
            "\n",
            "    accuracy                         0.9776     13673\n",
            "   macro avg     0.9493    0.9436    0.9464     13673\n",
            "weighted avg     0.9775    0.9776    0.9775     13673\n",
            "\n",
            "EarlyStopping counter: 1 out of 9\n"
          ]
        },
        {
          "name": "stderr",
          "output_type": "stream",
          "text": [
            "\n",
            "\n",
            "\n",
            "Epoch:  31%|███▏      | 10/32 [30:01<1:05:11, 177.79s/it]\u001b[A\u001b[A\u001b[A"
          ]
        },
        {
          "name": "stdout",
          "output_type": "stream",
          "text": [
            "Validation loss: 0.13328706286073552\n",
            "Validation Accuracy: 0.975025458524796\n",
            "Validation Accuracy Scope Level: 0.7473404255319149\n",
            "F1 Score_f1scope_function: 0.8554033485540335\n",
            "F1-Score Token: 0.8994191378783247\n",
            "              precision    recall  f1-score   support\n",
            "\n",
            "           0     0.9867    0.9860    0.9863     12042\n",
            "           1     0.8970    0.9019    0.8994      1631\n",
            "\n",
            "    accuracy                         0.9759     13673\n",
            "   macro avg     0.9418    0.9439    0.9429     13673\n",
            "weighted avg     0.9760    0.9759    0.9760     13673\n",
            "\n",
            "EarlyStopping counter: 2 out of 9\n"
          ]
        },
        {
          "name": "stderr",
          "output_type": "stream",
          "text": [
            "\n",
            "\n",
            "\n",
            "Epoch:  34%|███▍      | 11/32 [32:56<1:01:55, 176.94s/it]\u001b[A\u001b[A\u001b[A"
          ]
        },
        {
          "name": "stdout",
          "output_type": "stream",
          "text": [
            "Validation loss: 0.1757952509000693\n",
            "Validation Accuracy: 0.9718330061011294\n",
            "Validation Accuracy Scope Level: 0.7180851063829787\n",
            "F1 Score_f1scope_function: 0.8359133126934984\n",
            "F1-Score Token: 0.8874329958308517\n",
            "              precision    recall  f1-score   support\n",
            "\n",
            "           0     0.9882    0.9803    0.9842     12042\n",
            "           1     0.8628    0.9135    0.8874      1631\n",
            "\n",
            "    accuracy                         0.9724     13673\n",
            "   macro avg     0.9255    0.9469    0.9358     13673\n",
            "weighted avg     0.9732    0.9724    0.9727     13673\n",
            "\n",
            "EarlyStopping counter: 3 out of 9\n"
          ]
        },
        {
          "name": "stderr",
          "output_type": "stream",
          "text": [
            "\n",
            "\n",
            "\n",
            "Epoch:  38%|███▊      | 12/32 [35:51<58:47, 176.36s/it]  \u001b[A\u001b[A\u001b[A"
          ]
        },
        {
          "name": "stdout",
          "output_type": "stream",
          "text": [
            "Validation loss: 0.1783132266406183\n",
            "Validation Accuracy: 0.971137064725783\n",
            "Validation Accuracy Scope Level: 0.7101063829787234\n",
            "F1 Score_f1scope_function: 0.8304821150855365\n",
            "F1-Score Token: 0.8841911764705882\n",
            "              precision    recall  f1-score   support\n",
            "\n",
            "           0     0.9844    0.9842    0.9843     12042\n",
            "           1     0.8836    0.8847    0.8842      1631\n",
            "\n",
            "    accuracy                         0.9724     13673\n",
            "   macro avg     0.9340    0.9345    0.9342     13673\n",
            "weighted avg     0.9724    0.9724    0.9724     13673\n",
            "\n",
            "EarlyStopping counter: 4 out of 9\n"
          ]
        },
        {
          "name": "stderr",
          "output_type": "stream",
          "text": [
            "\n",
            "\n",
            "\n",
            "Epoch:  41%|████      | 13/32 [38:45<55:42, 175.93s/it]\u001b[A\u001b[A\u001b[A"
          ]
        },
        {
          "name": "stdout",
          "output_type": "stream",
          "text": [
            "Validation loss: 0.15815444698857895\n",
            "Validation Accuracy: 0.9748142368546315\n",
            "Validation Accuracy Scope Level: 0.723404255319149\n",
            "F1 Score_f1scope_function: 0.8395061728395062\n",
            "F1-Score Token: 0.8979351032448377\n",
            "              precision    recall  f1-score   support\n",
            "\n",
            "           0     0.9909    0.9803    0.9856     12042\n",
            "           1     0.8653    0.9332    0.8979      1631\n",
            "\n",
            "    accuracy                         0.9747     13673\n",
            "   macro avg     0.9281    0.9567    0.9417     13673\n",
            "weighted avg     0.9759    0.9747    0.9751     13673\n",
            "\n",
            "EarlyStopping counter: 5 out of 9\n"
          ]
        },
        {
          "name": "stderr",
          "output_type": "stream",
          "text": [
            "\n",
            "\n",
            "\n",
            "Epoch:  44%|████▍     | 14/32 [41:40<52:40, 175.57s/it]\u001b[A\u001b[A\u001b[A"
          ]
        },
        {
          "name": "stdout",
          "output_type": "stream",
          "text": [
            "Validation loss: 0.18123884222091255\n",
            "Validation Accuracy: 0.9724392161355863\n",
            "Validation Accuracy Scope Level: 0.726063829787234\n",
            "F1 Score_f1scope_function: 0.8412942989214176\n",
            "F1-Score Token: 0.8910529519172246\n",
            "              precision    recall  f1-score   support\n",
            "\n",
            "           0     0.9861    0.9841    0.9851     12042\n",
            "           1     0.8846    0.8976    0.8911      1631\n",
            "\n",
            "    accuracy                         0.9738     13673\n",
            "   macro avg     0.9353    0.9409    0.9381     13673\n",
            "weighted avg     0.9740    0.9738    0.9739     13673\n",
            "\n",
            "EarlyStopping counter: 6 out of 9\n"
          ]
        },
        {
          "name": "stderr",
          "output_type": "stream",
          "text": [
            "\n",
            "\n",
            "\n",
            "Epoch:  47%|████▋     | 15/32 [44:35<49:39, 175.29s/it]\u001b[A\u001b[A\u001b[A"
          ]
        },
        {
          "name": "stdout",
          "output_type": "stream",
          "text": [
            "Validation loss: 0.17369166573390682\n",
            "Validation Accuracy: 0.9725637599673993\n",
            "Validation Accuracy Scope Level: 0.7207446808510638\n",
            "F1 Score_f1scope_function: 0.8377125193199382\n",
            "F1-Score Token: 0.8922528940338379\n",
            "              precision    recall  f1-score   support\n",
            "\n",
            "           0     0.9893    0.9805    0.9849     12042\n",
            "           1     0.8648    0.9215    0.8923      1631\n",
            "\n",
            "    accuracy                         0.9735     13673\n",
            "   macro avg     0.9270    0.9510    0.9386     13673\n",
            "weighted avg     0.9744    0.9735    0.9738     13673\n",
            "\n",
            "EarlyStopping counter: 7 out of 9\n"
          ]
        },
        {
          "name": "stderr",
          "output_type": "stream",
          "text": [
            "\n",
            "\n",
            "\n",
            "Epoch:  50%|█████     | 16/32 [47:29<46:40, 175.05s/it]\u001b[A\u001b[A\u001b[A"
          ]
        },
        {
          "name": "stdout",
          "output_type": "stream",
          "text": [
            "Validation loss: 0.19485417786730047\n",
            "Validation Accuracy: 0.9731440115201723\n",
            "Validation Accuracy Scope Level: 0.7180851063829787\n",
            "F1 Score_f1scope_function: 0.8359133126934984\n",
            "F1-Score Token: 0.8904358353510895\n",
            "              precision    recall  f1-score   support\n",
            "\n",
            "           0     0.9867    0.9832    0.9849     12042\n",
            "           1     0.8793    0.9019    0.8904      1631\n",
            "\n",
            "    accuracy                         0.9735     13673\n",
            "   macro avg     0.9330    0.9426    0.9377     13673\n",
            "weighted avg     0.9739    0.9735    0.9737     13673\n",
            "\n",
            "EarlyStopping counter: 8 out of 9\n",
            "Validation loss: 0.16892855579609456\n",
            "Validation Accuracy: 0.9745327447518106\n",
            "Validation Accuracy Scope Level: 0.7393617021276596\n",
            "F1 Score_f1scope_function: 0.8501529051987767\n",
            "F1-Score Token: 0.8955314009661837\n",
            "              precision    recall  f1-score   support\n",
            "\n",
            "           0     0.9877    0.9836    0.9856     12042\n",
            "           1     0.8822    0.9093    0.8955      1631\n",
            "\n",
            "    accuracy                         0.9747     13673\n",
            "   macro avg     0.9349    0.9464    0.9406     13673\n",
            "weighted avg     0.9751    0.9747    0.9749     13673\n",
            "\n",
            "EarlyStopping counter: 9 out of 9\n",
            "Early stopping\n",
            "-----------------------------------------------\n",
            "Average dev F1-score 89.06\n"
          ]
        },
        {
          "data": {
            "text/plain": [
              "{'Best F1': 0.9090361445783133,\n",
              " 'Best Precision': 0.8934280639431617,\n",
              " 'Best Recall': 0.9251992642550583,\n",
              " 'Model': 'xlm-roberta-base',\n",
              " 'Task': 'negation Scope Resolution'}"
            ]
          },
          "execution_count": 67,
          "metadata": {
            "tags": []
          },
          "output_type": "execute_result"
        },
        {
          "data": {
            "image/png": "[encoded data removed]",
            "text/plain": [
              "<Figure size 1080x345.6 with 2 Axes>"
            ]
          },
          "metadata": {
            "needs_background": "light",
            "tags": []
          },
          "output_type": "display_data"
        },
        {
          "data": {
            "text/plain": [
              "<Figure size 432x288 with 0 Axes>"
            ]
          },
          "metadata": {
            "tags": []
          },
          "output_type": "display_data"
        }
      ],
      "source": [
        "model.train(train_dataloader, val_dataloaders, epochs=EPOCHS, patience=PATIENCE)"
      ]
    }
  ],
  "metadata": {
    "accelerator": "GPU",
    "colab": {
      "provenance": []
    },
    "kernelspec": {
      "display_name": "Python 3",
      "name": "python3"
    }
  },
  "nbformat": 4,
  "nbformat_minor": 0
}
